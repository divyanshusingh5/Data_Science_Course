{
 "cells": [
  {
   "cell_type": "markdown",
   "metadata": {},
   "source": [
    "# API Assignment\n",
    "\n",
    "## Q1. What is an API? Give an example, where an API is used in real life.\n",
    "\n",
    "### Answer:\n",
    "An API (Application Programming Interface) is a set of rules and protocols for building and interacting with software applications. It allows different software systems to communicate with each other. An example of an API used in real life is the Google Maps API, which allows developers to integrate maps and location services into their applications.\n",
    "\n",
    "## Q2. Give advantages and disadvantages of using API.\n",
    "\n",
    "### Advantages:\n",
    "1. **Modularity:** APIs enable modular programming by allowing different parts of a software system to interact with each other.\n",
    "2. **Interoperability:** APIs facilitate the integration of different systems and technologies.\n",
    "3. **Efficiency:** APIs can significantly reduce the amount of time and effort required to develop new applications by leveraging existing functionalities.\n",
    "\n",
    "### Disadvantages:\n",
    "1. **Security Risks:** APIs can expose sensitive data if not properly secured.\n",
    "2. **Complexity:** Designing and maintaining APIs can be complex and require significant resources.\n",
    "3. **Dependency:** Applications relying on third-party APIs can be affected by changes or downtime in those APIs.\n",
    "\n",
    "## Q3. What is a Web API? Differentiate between API and Web API.\n",
    "\n",
    "### Answer:\n",
    "A Web API is an API that is accessed over the web using the HTTP/HTTPS protocol. It allows for interaction between different web services and applications.\n",
    "\n",
    "**Difference:**\n",
    "- **API:** A general term for a set of protocols and tools for building software applications. It can be used in various contexts, not limited to the web.\n",
    "- **Web API:** A specific type of API that operates over the web using HTTP/HTTPS.\n",
    "\n",
    "## Q4. Explain REST and SOAP Architecture. Mention shortcomings of SOAP.\n",
    "\n",
    "### REST Architecture:\n",
    "REST (Representational State Transfer) is an architectural style that uses standard web protocols, typically HTTP. It is based on stateless, client-server communication and uses standard HTTP methods (GET, POST, PUT, DELETE).\n",
    "\n",
    "### SOAP Architecture:\n",
    "SOAP (Simple Object Access Protocol) is a protocol for exchanging structured information in the implementation of web services. It relies on XML-based messaging and follows a strict set of rules and standards.\n",
    "\n",
    "### Shortcomings of SOAP:\n",
    "1. **Complexity:** SOAP is more complex and has a steeper learning curve compared to REST.\n",
    "2. **Performance:** SOAP messages are larger due to XML formatting, leading to higher bandwidth usage.\n",
    "3. **Flexibility:** SOAP is less flexible due to its strict standards and protocols.\n",
    "\n",
    "## Q5. Differentiate between REST and SOAP.\n",
    "\n",
    "### Answer:\n",
    "1. **Protocol:** REST is an architectural style, while SOAP is a protocol.\n",
    "2. **Message Format:** REST typically uses JSON, while SOAP uses XML.\n",
    "3. **Transport:** REST can use multiple protocols (HTTP, HTTPS, FTP), while SOAP primarily uses HTTP/HTTPS.\n",
    "4. **Flexibility:** REST is more flexible and easier to implement, whereas SOAP is more rigid and standardized.\n",
    "5. **Performance:** REST is generally faster and uses less bandwidth compared to SOAP.\n",
    "\n"
   ]
  },
  {
   "cell_type": "markdown",
   "metadata": {},
   "source": []
  }
 ],
 "metadata": {
  "language_info": {
   "name": "python"
  }
 },
 "nbformat": 4,
 "nbformat_minor": 2
}
