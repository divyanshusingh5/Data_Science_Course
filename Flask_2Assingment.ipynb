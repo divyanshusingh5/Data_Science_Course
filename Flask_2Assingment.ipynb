{
 "cells": [
  {
   "cell_type": "markdown",
   "metadata": {},
   "source": [
    "# Data Science Masters Assignment\n",
    "\n",
    "## Q1. Explain GET and POST methods.\n",
    "\n",
    "### Answer:\n",
    "- **GET Method:** The GET method is used to request data from a specified resource. It appends data to the URL and sends it to the server. GET requests can be cached and remain in the browser history. They are used when you want to retrieve data without any side effects.\n",
    "  \n",
    "- **POST Method:** The POST method is used to send data to the server to create or update a resource. The data sent by POST is included in the body of the request, not in the URL. POST requests are not cached and do not remain in the browser history. They are used when you need to send sensitive data or when the action should change the state of the server.\n",
    "\n",
    "## Q2. Why is request used in Flask?\n",
    "\n",
    "### Answer:\n",
    "The `request` object in Flask is used to access incoming request data, such as form data, query parameters, and headers. It allows you to handle input data from the client and interact with the request context. For example, you can use `request.form` to access form data submitted via a POST request.\n",
    "\n",
    "## Q3. Why is redirect() used in Flask?\n",
    "\n",
    "### Answer:\n",
    "The `redirect()` function in Flask is used to redirect the client to a different URL. It is useful when you want to direct the user to another route after completing an action, such as after submitting a form. This helps in implementing the Post/Redirect/Get pattern to prevent form resubmission issues.\n",
    "\n",
    "## Q4. What are templates in Flask? Why is the render_template() function used?\n",
    "\n",
    "### Answer:\n",
    "Templates in Flask are files that contain static and dynamic content. They allow you to separate the HTML presentation from the Python code. Templates are typically written in HTML with placeholders for dynamic data.\n",
    "\n",
    "The `render_template()` function is used to render these templates by replacing placeholders with actual data passed from the view function. It takes the name of the template file and any variables you want to pass to the template.\n",
    "\n",
    "## Q5. Create a simple API. Use Postman to test it. Attach the screenshot of the output in the Jupyter Notebook.\n",
    "\n",
    "### Answer:\n",
    "\n",
    "Here is a simple Flask API:\n",
    "\n",
    "```python\n",
    "from flask import Flask, request, jsonify\n",
    "\n",
    "app = Flask(__name__)\n",
    "\n",
    "@app.route('/api/greet', methods=['GET', 'POST'])\n",
    "def greet():\n",
    "    if request.method == 'POST':\n",
    "        data = request.get_json()\n",
    "        name = data.get('name', 'World')\n",
    "        return jsonify({'message': f'Hello, {name}!'})\n",
    "\n",
    "    return jsonify({'message': 'Hello, World!'})\n",
    "\n",
    "if __name__ == '__main__':\n",
    "    app.run(debug=True)\n"
   ]
  },
  {
   "cell_type": "markdown",
   "metadata": {},
   "source": [
    "Testing with Postman:\n",
    "GET request: Make a GET request to http://127.0.0.1:5000/api/greet.\n",
    "POST request: Make a POST request to http://127.0.0.1:5000/api/greet with a JSON body: {\"name\": \"John\"}."
   ]
  },
  {
   "cell_type": "markdown",
   "metadata": {},
   "source": []
  }
 ],
 "metadata": {
  "language_info": {
   "name": "python"
  }
 },
 "nbformat": 4,
 "nbformat_minor": 2
}
