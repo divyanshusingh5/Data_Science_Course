{
 "cells": [
  {
   "cell_type": "markdown",
   "metadata": {},
   "source": [
    "# Statistics Assignment\n",
    "\n",
    "## Q1. What are the three measures of central tendency?\n",
    "The three measures of central tendency are:\n",
    "1. Mean\n",
    "2. Median\n",
    "3. Mode\n",
    "\n",
    "## Q2. What is the difference between the mean, median, and mode? How are they used to measure the central tendency of a dataset?\n",
    "- **Mean**: The average of all data points. It is calculated by summing all values and dividing by the number of values. It is sensitive to outliers.\n",
    "- **Median**: The middle value when data points are ordered. If there is an even number of observations, the median is the average of the two middle values. It is less sensitive to outliers.\n",
    "- **Mode**: The most frequently occurring value(s) in a dataset. There can be more than one mode or no mode at all.\n",
    "\n",
    "### Uses:\n",
    "- **Mean**: Used when data is symmetrically distributed without outliers.\n",
    "- **Median**: Used when data has outliers or is skewed.\n",
    "- *# Statistics Assignment\n",
    "\n",
    "## Q1. What are the three measures of central tendency?\n",
    "The three measures of central tendency are:\n",
    "1. Mean\n",
    "2. Median\n",
    "3. Mode\n",
    "\n",
    "## Q2. What is the difference between the mean, median, and mode? How are they used to measure the central tendency of a dataset?\n",
    "- **Mean**: The average of all data points. It is calculated by summing all values and dividing by the number of values. It is sensitive to outliers.\n",
    "- **Median**: The middle value when data points are ordered. If there is an even number of observations, the median is the average of the two middle values. It is less sensitive to outliers.\n",
    "- **Mode**: The most frequently occurring value(s) in a dataset. There can be more than one mode or no mode at all.\n",
    "\n",
    "### Uses:\n",
    "- **Mean**: Used when data is symmetrically distributed without outliers.\n",
    "- **Median**: Used when data has outliers or is skewed.\n",
    "- **Mode**: Used for categorical data to identify the most common category.\n",
    "\n",
    "## Q3. Measure the three measures of central tendency for the given height data:\n",
    "`[178, 177, 176, 177, 178.2, 178, 175, 179, 180, 175, 178.9, 176.2, 177, 172.5, 178, 176.5]`\n",
    "\n",
    "```python\n",
    "import numpy as np\n",
    "from scipy import stats\n",
    "\n",
    "height_data = [178, 177, 176, 177, 178.2, 178, 175, 179, 180, 175, 178.9, 176.2, 177, 172.5, 178, 176.5]\n",
    "\n",
    "# Mean\n",
    "mean_height = np.mean(height_data)\n",
    "# Median\n",
    "median_height = np.median(height_data)\n",
    "# Mode\n",
    "mode_height = stats.mode(height_data)\n",
    "\n",
    "(mean_height, median_height, mode_height)\n",
    "*Mode**: Used for categorical data to identify the most common category.\n",
    "\n",
    "## Q3. Measure the three measures of central tendency for the given height data:\n",
    "`[178, 177, 176, 177, 178.2, 178, 175, 179, 180, 175, 178.9, 176.2, 177, 172.5, 178, 176.5]`\n",
    "\n",
    "```python\n",
    "import numpy as np\n",
    "from scipy import stats\n",
    "\n",
    "height_data = [178, 177, 176, 177, 178.2, 178, 175, 179, 180, 175, 178.9, 176.2, 177, 172.5, 178, 176.5]\n",
    "\n",
    "# Mean\n",
    "mean_height = np.mean(height_data)\n",
    "# Median\n",
    "median_height = np.median(height_data)\n",
    "# Mode\n",
    "mode_height = stats.mode(height_data)\n",
    "\n",
    "(mean_height, median_height, mode_height)\n"
   ]
  },
  {
   "cell_type": "markdown",
   "metadata": {},
   "source": [
    "Q4. Find the standard deviation for the given data:\n",
    "[178, 177, 176, 177, 178.2, 178, 175, 179, 180, 175, 178.9, 176.2, 177, 172.5, 178, 176.5]"
   ]
  },
  {
   "cell_type": "code",
   "execution_count": 6,
   "metadata": {},
   "outputs": [
    {
     "ename": "NameError",
     "evalue": "name 'height_data' is not defined",
     "output_type": "error",
     "traceback": [
      "\u001b[1;31m---------------------------------------------------------------------------\u001b[0m",
      "\u001b[1;31mNameError\u001b[0m                                 Traceback (most recent call last)",
      "\u001b[1;32m<ipython-input-6-26cb11f4274f>\u001b[0m in \u001b[0;36m<module>\u001b[1;34m\u001b[0m\n\u001b[0;32m      1\u001b[0m \u001b[1;31m# Standard Deviation\u001b[0m\u001b[1;33m\u001b[0m\u001b[1;33m\u001b[0m\u001b[1;33m\u001b[0m\u001b[0m\n\u001b[0;32m      2\u001b[0m \u001b[1;32mimport\u001b[0m \u001b[0mnumpy\u001b[0m \u001b[1;32mas\u001b[0m \u001b[0mnp\u001b[0m\u001b[1;33m\u001b[0m\u001b[1;33m\u001b[0m\u001b[0m\n\u001b[1;32m----> 3\u001b[1;33m \u001b[0mstd_deviation\u001b[0m \u001b[1;33m=\u001b[0m \u001b[0mnp\u001b[0m\u001b[1;33m.\u001b[0m\u001b[0mstd\u001b[0m\u001b[1;33m(\u001b[0m\u001b[0mheight_data\u001b[0m\u001b[1;33m)\u001b[0m\u001b[1;33m\u001b[0m\u001b[1;33m\u001b[0m\u001b[0m\n\u001b[0m\u001b[0;32m      4\u001b[0m \u001b[0mstd_deviation\u001b[0m\u001b[1;33m\u001b[0m\u001b[1;33m\u001b[0m\u001b[0m\n",
      "\u001b[1;31mNameError\u001b[0m: name 'height_data' is not defined"
     ]
    }
   ],
   "source": [
    "# Standard Deviation\n",
    "import numpy as np\n",
    "std_deviation = np.std(height_data)\n",
    "std_deviation\n"
   ]
  },
  {
   "cell_type": "markdown",
   "metadata": {},
   "source": [
    "Q5. How are measures of dispersion such as range, variance, and standard deviation used to describe the spread of a dataset? Provide an example."
   ]
  },
  {
   "cell_type": "markdown",
   "metadata": {},
   "source": [
    "Range: The difference between the maximum and minimum values. It gives a crude measure of the data spread.\n",
    "Variance: The average squared difference from the mean. It measures how data points spread out from the mean.\n",
    "Standard Deviation: The square root of variance. It provides a measure of the average distance from the mean.\n",
    "Example:\n",
    "Consider the dataset [2, 4, 4, 4, 5, 5, 7, 9].\n",
    "\n",
    "Range: 9 - 2 = 7\n",
    "Variance: 4.57\n",
    "Standard Deviation: 2.14"
   ]
  },
  {
   "cell_type": "code",
   "execution_count": 7,
   "metadata": {},
   "outputs": [
    {
     "data": {
      "text/plain": [
       "(7, 4.0, 2.0)"
      ]
     },
     "execution_count": 7,
     "metadata": {},
     "output_type": "execute_result"
    }
   ],
   "source": [
    "example_data = [2, 4, 4, 4, 5, 5, 7, 9]\n",
    "\n",
    "range_example = np.max(example_data) - np.min(example_data)\n",
    "variance_example = np.var(example_data)\n",
    "std_dev_example = np.std(example_data)\n",
    "\n",
    "(range_example, variance_example, std_dev_example)\n"
   ]
  },
  {
   "cell_type": "markdown",
   "metadata": {},
   "source": [
    "Q6. What is a Venn diagram?\n",
    "A Venn diagram is a diagram that shows all possible logical relations between a finite collection of different sets. They are used to illustrate the relationships between sets, including their intersections and unions.\n",
    "\n",
    "Q7. For the two given sets A = {2, 3, 4, 5, 6, 7} & B = {0, 2, 6, 8, 10}. Find:\n",
    "(i) A ∩ B\n",
    "(ii) A ∪ B"
   ]
  },
  {
   "cell_type": "code",
   "execution_count": 8,
   "metadata": {},
   "outputs": [
    {
     "data": {
      "text/plain": [
       "({2, 6}, {0, 2, 3, 4, 5, 6, 7, 8, 10})"
      ]
     },
     "execution_count": 8,
     "metadata": {},
     "output_type": "execute_result"
    }
   ],
   "source": [
    "A = {2, 3, 4, 5, 6, 7}\n",
    "B = {0, 2, 6, 8, 10}\n",
    "\n",
    "# Intersection\n",
    "intersection = A.intersection(B)\n",
    "# Union\n",
    "union = A.union(B)\n",
    "\n",
    "(intersection, union)\n"
   ]
  },
  {
   "cell_type": "markdown",
   "metadata": {},
   "source": [
    "Q8. What do you understand about skewness in data?\n",
    "Skewness refers to the asymmetry in the distribution of data. A dataset can be:\n",
    "\n",
    "Positively Skewed (Right Skewed): Longer tail on the right side.\n",
    "Negatively Skewed (Left Skewed): Longer tail on the left side.\n",
    "Q9. If a data is right skewed then what will be the position of median with respect to mean?\n",
    "In a right-skewed distribution, the mean is typically greater than the median. The tail on the right side pulls the mean higher.\n",
    "\n",
    "Q10. Explain the difference between covariance and correlation. How are these measures used in statistical analysis?\n",
    "Covariance: Measures the direction of the linear relationship between two variables. It can be positive (both variables increase together) or negative (one variable increases while the other decreases).\n",
    "Correlation: Measures both the strength and direction of the linear relationship between two variables. It is standardized between -1 and 1.\n",
    "Use:\n",
    "Covariance: Used to determine the direction of a relationship.\n",
    "Correlation: Used to determine the strength and direction of a relationship.\n",
    "Q11. What is the formula for calculating the sample mean? Provide an example calculation for a dataset.\n",
    "The sample mean is calculated as:\n",
    "\n",
    "𝑥\n",
    "ˉ\n",
    "=\n",
    "1\n",
    "𝑛\n",
    "∑\n",
    "𝑖\n",
    "=\n",
    "1\n",
    "𝑛\n",
    "𝑥\n",
    "𝑖\n",
    "x\n",
    "ˉ\n",
    " = \n",
    "n\n",
    "1\n",
    "​\n",
    "  \n",
    "i=1\n",
    "∑\n",
    "n\n",
    "​\n",
    " x \n",
    "i\n",
    "​\n",
    " \n",
    "Example:\n",
    "For the dataset [2, 3, 5, 7, 11]:\n",
    "\n",
    "python\n",
    "Copy code\n",
    "data = [2, 3, 5, 7, 11]\n",
    "sample_mean = np.mean(data)\n",
    "sample_mean\n",
    "Q12. For a normal distribution data what is the relationship between its measure of central tendency?\n",
    "In a normal distribution, the mean, median, and mode are all equal and located at the center of the distribution.\n",
    "\n",
    "Q13. How is covariance different from correlation?\n",
    "Covariance measures the direction of the relationship between variables, while correlation measures both the strength and direction of the relationship. Correlation is standardized, making it easier to compare between different datasets.\n",
    "\n",
    "Q14. How do outliers affect measures of central tendency and dispersion? Provide an example.\n",
    "Outliers can significantly affect measures of central tendency and dispersion:\n",
    "\n",
    "Mean: Outliers can skew the mean.\n",
    "Median: Less affected by outliers.\n",
    "Mode: Not affected by outliers.\n",
    "Range: Increases significantly with outliers.\n",
    "Variance and Standard Deviation: Increases with outliers.\n",
    "Example:\n",
    "Consider the dataset [2, 3, 4, 5, 100].\n",
    "\n",
    "Mean: 22.8 (affected by outlier)\n",
    "Median: 4 (less affected)\n",
    "Standard Deviation: 38.26 (affected by outlier)"
   ]
  },
  {
   "cell_type": "code",
   "execution_count": 9,
   "metadata": {},
   "outputs": [
    {
     "data": {
      "text/plain": [
       "(22.8, 4.0, 38.61295119516249)"
      ]
     },
     "execution_count": 9,
     "metadata": {},
     "output_type": "execute_result"
    }
   ],
   "source": [
    "outlier_data = [2, 3, 4, 5, 100]\n",
    "\n",
    "mean_outlier = np.mean(outlier_data)\n",
    "median_outlier = np.median(outlier_data)\n",
    "std_dev_outlier = np.std(outlier_data)\n",
    "\n",
    "(mean_outlier, median_outlier, std_dev_outlier)\n"
   ]
  },
  {
   "cell_type": "markdown",
   "metadata": {},
   "source": []
  }
 ],
 "metadata": {
  "kernelspec": {
   "display_name": "Python 3",
   "language": "python",
   "name": "python3"
  },
  "language_info": {
   "codemirror_mode": {
    "name": "ipython",
    "version": 3
   },
   "file_extension": ".py",
   "mimetype": "text/x-python",
   "name": "python",
   "nbconvert_exporter": "python",
   "pygments_lexer": "ipython3",
   "version": "3.8.0"
  }
 },
 "nbformat": 4,
 "nbformat_minor": 2
}
