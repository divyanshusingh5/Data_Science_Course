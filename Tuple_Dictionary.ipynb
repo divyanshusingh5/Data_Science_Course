{
 "cells": [
  {
   "cell_type": "markdown",
   "metadata": {},
   "source": [
    "Q1. What are the characteristics of the tuples? Is tuple immutable?"
   ]
  },
  {
   "cell_type": "markdown",
   "metadata": {},
   "source": [
    "Characteristics of Tuples:\n",
    "Ordered:\n",
    "\n",
    "Tuples maintain the order of elements. This means that the first element remains the first, the second remains the second, and so on. For example, if you have a tuple (1, 2, 3), the order of elements will always be 1, 2, 3.\n",
    "Indexed:\n",
    "\n",
    "Elements in a tuple can be accessed using their index. Indexing starts at 0, meaning the first element is accessed with index 0, the second element with index 1, and so on. For instance, in the tuple ('apple', 'banana', 'cherry'), tuple[1] would give 'banana'.\n",
    "Heterogeneous:\n",
    "\n",
    "Tuples can contain elements of different types. This means you can have a tuple with integers, strings, lists, and other data types together. For example, ('John', 25, 5.9, ['Python', 'Java']) is a valid tuple containing a string, an integer, a float, and a list.\n",
    "Allow Duplicate Elements:\n",
    "\n",
    "Tuples can contain duplicate elements. This means the same value can appear multiple times in a tuple. For example, (1, 2, 2, 3) is a valid tuple with the number 2 appearing twice.\n",
    "Fixed Size:\n",
    "\n",
    "Once a tuple is created, its size cannot be changed. This means you cannot add, remove, or modify elements after the tuple is created.\n",
    "Is a Tuple Immutable?\n",
    "Yes, Tuples are Immutable:\n",
    "Immutability means that once a tuple is created, it cannot be altered. This includes adding, removing, or changing the elements of the tuple. For example, if you have a tuple t = (1, 2, 3), you cannot perform operations like t[0] = 10 or t.append(4). Any attempt to modify the tuple will result in an error."
   ]
  },
  {
   "cell_type": "markdown",
   "metadata": {},
   "source": [
    "Q2. What are the two tuple methods in python? Give an example of each method. Give a reason why\n",
    "tuples have only two in-built methods as compared to Lists."
   ]
  },
  {
   "cell_type": "markdown",
   "metadata": {},
   "source": [
    "Tuples in Python have only two built-in methods: count() and index().\n",
    "\n"
   ]
  },
  {
   "cell_type": "code",
   "execution_count": 3,
   "metadata": {},
   "outputs": [
    {
     "name": "stdout",
     "output_type": "stream",
     "text": [
      "3\n",
      "6\n"
     ]
    }
   ],
   "source": [
    "t1=(1,2,3,44,44,44,22)\n",
    "print(t1.count(44))\n",
    "print(t1.index(22))"
   ]
  },
  {
   "cell_type": "markdown",
   "metadata": {},
   "source": [
    "Q3. Which collection datatypes in python do not allow duplicate items? Write a code using a set to remove\n",
    "\n",
    "duplicates from the given list.\n",
    "List = [1, 1, 1, 2, 1, 3, 1, 4, 2, 1, 2, 2, 2, 3, 2, 4, 3, 1, 3, 2, 3, 3, 3, 4, 4, 1, 4, 2, 4, 3, 4, 4]"
   ]
  },
  {
   "cell_type": "code",
   "execution_count": 4,
   "metadata": {},
   "outputs": [
    {
     "name": "stdout",
     "output_type": "stream",
     "text": [
      "{1, 2, 3, 4}\n",
      "[1, 2, 3, 4]\n"
     ]
    }
   ],
   "source": [
    "List = [1, 1, 1, 2, 1, 3, 1, 4, 2, 1, 2, 2, 2, 3, 2, 4, 3, 1, 3, 2, 3, 3, 3, 4, 4, 1, 4, 2, 4, 3, 4, 4]\n",
    "unique_set = set(List)\n",
    "unique_list=list(unique_set)\n",
    "print(unique_set)\n",
    "print(unique_list)"
   ]
  },
  {
   "cell_type": "markdown",
   "metadata": {},
   "source": [
    "Q4. Explain the difference between the union() and update() methods for a set. Give an example of\n",
    "each method.\n",
    "\n",
    "Difference Between union() and update() Methods for a Set\n",
    "In Python, both union() and update() methods are used to combine sets, but they function differently:\n",
    "\n",
    "union() Method:\n",
    "\n",
    "The union() method returns a new set that contains all elements from the original set and all elements from the provided sets.\n",
    "It does not modify the original set.\n",
    "It can take multiple sets as arguments.\n",
    "update() Method:\n",
    "\n",
    "The update() method adds all elements from the provided sets to the original set.\n",
    "It modifies the original set in place.\n",
    "It can also take multiple sets as arguments."
   ]
  },
  {
   "cell_type": "code",
   "execution_count": 8,
   "metadata": {},
   "outputs": [
    {
     "name": "stdout",
     "output_type": "stream",
     "text": [
      "{1, 2, 3, 4, 5}\n",
      "{1, 2, 3}\n"
     ]
    }
   ],
   "source": [
    "set1 = {1, 2, 3}\n",
    "set2 = {3, 4, 5}\n",
    "\n",
    "union_set=set1.union(set2)\n",
    "print(union_set)\n",
    "print(set1)"
   ]
  },
  {
   "cell_type": "code",
   "execution_count": 9,
   "metadata": {},
   "outputs": [
    {
     "data": {
      "text/plain": [
       "{1, 2, 3, 4, 5}"
      ]
     },
     "execution_count": 9,
     "metadata": {},
     "output_type": "execute_result"
    }
   ],
   "source": [
    "set1.update(set2)\n",
    "set1"
   ]
  },
  {
   "cell_type": "markdown",
   "metadata": {},
   "source": [
    "\n",
    "Q5. What is a dictionary? Give an example. Also, state whether a dictionary is ordered or unordered."
   ]
  },
  {
   "cell_type": "markdown",
   "metadata": {},
   "source": [
    "A dictionary in Python is a collection of key-value pairs where each key is unique and maps to a value. Dictionaries are mutable, meaning you can change them after they are created, such as adding, removing, or updating key-value pairs."
   ]
  },
  {
   "cell_type": "markdown",
   "metadata": {},
   "source": [
    "Ordered or Unordered:\n",
    "Python 3.7 and Later: Dictionaries maintain the insertion order of keys. This means that when you iterate over a dictionary or print it, the items will be in the order in which they were added.\n",
    "\n",
    "Python 3.6 and Earlier: Dictionaries are unordered collections, meaning that the order of items is not guaranteed."
   ]
  },
  {
   "cell_type": "markdown",
   "metadata": {},
   "source": [
    "Q6. Can we create a nested dictionary? If so, please give an example by creating a simple one-level\n",
    "nested dictionary."
   ]
  },
  {
   "cell_type": "markdown",
   "metadata": {},
   "source": [
    "Yes We Can create a Nested disctionary."
   ]
  },
  {
   "cell_type": "code",
   "execution_count": 18,
   "metadata": {},
   "outputs": [
    {
     "name": "stdout",
     "output_type": "stream",
     "text": [
      "26\n"
     ]
    }
   ],
   "source": [
    "dict1={'person1':{'name':'Divyanshu'\n",
    "                  ,'age':42}}\n",
    "dict1[\"person1\"][\"age\"] = 26\n",
    "print(dict1['person1']['age'])\n",
    "\n"
   ]
  },
  {
   "cell_type": "markdown",
   "metadata": {},
   "source": [
    "Q7. Using setdefault() method, create key named topics in the given dictionary and also add the value of\n",
    "the key as this list ['Python', 'Machine Learning’, 'Deep Learning']"
   ]
  },
  {
   "cell_type": "code",
   "execution_count": 20,
   "metadata": {},
   "outputs": [
    {
     "name": "stdout",
     "output_type": "stream",
     "text": [
      "Updated dictionary: {'language': 'Python', 'course': 'Data Science Masters', 'topics': ['Python', 'Machine Learning', 'Deep Learning']}\n"
     ]
    }
   ],
   "source": [
    "# Given dictionary\n",
    "dict1 = {'language': 'Python', 'course': 'Data Science Masters'}\n",
    "\n",
    "# Using setdefault() to add a key named 'topics' with a list as its value\n",
    "dict1.setdefault('topics', ['Python', 'Machine Learning', 'Deep Learning'])\n",
    "\n",
    "# Printing the updated dictionary\n",
    "print(\"Updated dictionary:\", dict1)\n"
   ]
  },
  {
   "cell_type": "markdown",
   "metadata": {},
   "source": [
    "Q8. What are the three view objects in dictionaries? Use the three in-built methods in python to display\n",
    "these three view objects for the given dictionary.\n",
    "dict1 = {'Sport': 'Cricket' , 'Teams': ['India', 'Australia', 'England', 'South Africa', 'Sri Lanka', 'New Zealand']}"
   ]
  },
  {
   "cell_type": "markdown",
   "metadata": {},
   "source": [
    "Three View Objects in Dictionaries\n",
    "In Python, dictionaries provide three types of view objects, which offer a dynamic view of the dictionary’s entries. These view objects are:\n",
    "\n",
    "Keys View (dict_keys): Provides a view of the dictionary's keys.\n",
    "Values View (dict_values): Provides a view of the dictionary's values.\n",
    "Items View (dict_items): Provides a view of the dictionary's key-value pairs."
   ]
  },
  {
   "cell_type": "code",
   "execution_count": 21,
   "metadata": {},
   "outputs": [
    {
     "name": "stdout",
     "output_type": "stream",
     "text": [
      "Keys view: dict_keys(['Sport', 'Teams'])\n",
      "Values view: dict_values(['Cricket', ['India', 'Australia', 'England', 'South Africa', 'Sri Lanka', 'New Zealand']])\n",
      "Items view: dict_items([('Sport', 'Cricket'), ('Teams', ['India', 'Australia', 'England', 'South Africa', 'Sri Lanka', 'New Zealand'])])\n"
     ]
    }
   ],
   "source": [
    "# Given dictionary\n",
    "dict1 = {\n",
    "    'Sport': 'Cricket',\n",
    "    'Teams': ['India', 'Australia', 'England', 'South Africa', 'Sri Lanka', 'New Zealand']\n",
    "}\n",
    "\n",
    "# Displaying the keys view\n",
    "keys_view = dict1.keys()\n",
    "print(\"Keys view:\", keys_view)\n",
    "\n",
    "# Displaying the values view\n",
    "values_view = dict1.values()\n",
    "print(\"Values view:\", values_view)\n",
    "\n",
    "# Displaying the items view\n",
    "items_view = dict1.items()\n",
    "print(\"Items view:\", items_view)\n"
   ]
  },
  {
   "cell_type": "code",
   "execution_count": 26,
   "metadata": {},
   "outputs": [
    {
     "name": "stdout",
     "output_type": "stream",
     "text": [
      "(100, 100)\n"
     ]
    }
   ],
   "source": [
    "atuple = (100, 200, 300, 400, 500)\n",
    "\n",
    "atuple[-2]\n",
    "atuple[-4:-1]\n",
    "type(atuple)\n",
    "atuple = (100,)\n",
    "print(atuple*2)\n"
   ]
  },
  {
   "cell_type": "code",
   "execution_count": 27,
   "metadata": {},
   "outputs": [
    {
     "name": "stdout",
     "output_type": "stream",
     "text": [
      "None\n"
     ]
    }
   ],
   "source": [
    "dict1 = {\"name\": \"Mike\", \"salary\": 8000}\n",
    "\n",
    "temp = dict1.get(\"age\")\n",
    "\n",
    "print(temp)"
   ]
  },
  {
   "cell_type": "code",
   "execution_count": null,
   "metadata": {},
   "outputs": [],
   "source": []
  }
 ],
 "metadata": {
  "kernelspec": {
   "display_name": "Python 3",
   "language": "python",
   "name": "python3"
  },
  "language_info": {
   "codemirror_mode": {
    "name": "ipython",
    "version": 3
   },
   "file_extension": ".py",
   "mimetype": "text/x-python",
   "name": "python",
   "nbconvert_exporter": "python",
   "pygments_lexer": "ipython3",
   "version": "3.8.0"
  }
 },
 "nbformat": 4,
 "nbformat_minor": 2
}
