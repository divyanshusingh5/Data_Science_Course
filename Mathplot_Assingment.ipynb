{
 "cells": [
  {
   "cell_type": "markdown",
   "metadata": {},
   "source": []
  },
  {
   "cell_type": "markdown",
   "metadata": {},
   "source": [
    "# Matplotlib Assignment\n",
    "\n",
    "## Q1: What is Matplotlib? Why is it used? Name five plots that can be plotted using the Pyplot module of Matplotlib.\n",
    "\n",
    "### Answer:\n",
    "**Matplotlib** is a plotting library for the Python programming language and its numerical mathematics extension NumPy. It provides an object-oriented API for embedding plots into applications.\n",
    "\n",
    "**Why is it used?**\n",
    "- To create static, interactive, and animated visualizations in Python.\n",
    "- To generate plots and charts from data to visualize and understand it better.\n",
    "\n",
    "**Five plots that can be plotted using the Pyplot module:**\n",
    "1. Line plot\n",
    "2. Scatter plot\n",
    "3. Bar plot\n",
    "4. Histogram\n",
    "5. Box plot\n",
    "\n",
    "## Q2: What is a scatter plot? Use the following code to generate data for x and y. Using this generated data plot a scatter plot.\n",
    "\n",
    "### Answer:\n",
    "A **scatter plot** is a type of plot or mathematical diagram using Cartesian coordinates to display values for typically two variables for a set of data. It shows how much one variable is affected by another.\n",
    "\n",
    "```python\n",
    "import numpy as np\n",
    "import matplotlib.pyplot as plt\n",
    "\n",
    "np.random.seed(3)\n",
    "x = 3 + np.random.normal(0, 2, 50)\n",
    "y = 3 + np.random.normal(0, 2, len(x))\n",
    "\n",
    "plt.scatter(x, y)\n",
    "plt.title(\"Scatter Plot\")\n",
    "plt.xlabel(\"X-axis\")\n",
    "plt.ylabel(\"Y-axis\")\n",
    "plt.show()\n"
   ]
  },
  {
   "cell_type": "markdown",
   "metadata": {},
   "source": [
    "Q3: Why is the subplot() function used? Draw four line plots using the subplot() function.\n",
    "Answer:\n",
    "The subplot() function in Matplotlib is used to create multiple plots in a single figure. It allows you to arrange multiple subplots in a grid within a single figure."
   ]
  },
  {
   "cell_type": "code",
   "execution_count": null,
   "metadata": {},
   "outputs": [],
   "source": [
    "import numpy as np\n",
    "import matplotlib.pyplot as plt\n",
    "\n",
    "x = np.array([0, 1, 2, 3, 4, 5])\n",
    "\n",
    "y1 = np.array([0, 100, 200, 300, 400, 500])\n",
    "y2 = np.array([50, 20, 40, 20, 60, 70])\n",
    "y3 = np.array([10, 20, 30, 40, 50, 60])\n",
    "y4 = np.array([200, 350, 250, 550, 450, 150])\n",
    "\n",
    "plt.figure(figsize=(10, 8))\n",
    "\n",
    "plt.subplot(2, 2, 1)\n",
    "plt.plot(x, y1)\n",
    "plt.title(\"Line 1\")\n",
    "\n",
    "plt.subplot(2, 2, 2)\n",
    "plt.plot(x, y2)\n",
    "plt.title(\"Line 2\")\n",
    "\n",
    "plt.subplot(2, 2, 3)\n",
    "plt.plot(x, y3)\n",
    "plt.title(\"Line 3\")\n",
    "\n",
    "plt.subplot(2, 2, 4)\n",
    "plt.plot(x, y4)\n",
    "plt.title(\"Line 4\")\n",
    "\n",
    "plt.tight_layout()\n",
    "plt.show()\n"
   ]
  },
  {
   "cell_type": "markdown",
   "metadata": {},
   "source": []
  }
 ],
 "metadata": {
  "kernelspec": {
   "display_name": "Python 3",
   "language": "python",
   "name": "python3"
  },
  "language_info": {
   "name": "python",
   "version": "3.8.0"
  }
 },
 "nbformat": 4,
 "nbformat_minor": 2
}
