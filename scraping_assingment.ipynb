{
 "cells": [
  {
   "cell_type": "markdown",
   "metadata": {},
   "source": [
    "# Web Scraping Assignment\n",
    "\n",
    "## Q1. What is Web Scraping? Why is it Used? Give three areas where Web Scraping is used to get data.\n",
    "\n",
    "### Answer:\n",
    "**Web Scraping** is a technique used to extract data from websites. It involves fetching the content of a webpage and then parsing and extracting specific information from it.\n",
    "\n",
    "**Why is it Used?**\n",
    "Web scraping is used to gather large amounts of data from websites for various purposes, such as data analysis, research, and monitoring.\n",
    "\n",
    "**Three areas where Web Scraping is used:**\n",
    "1. **Market Research:** Companies use web scraping to collect data on competitors, pricing, and market trends.\n",
    "2. **Real Estate:** Scraping real estate websites to gather information on property listings, prices, and availability.\n",
    "3. **Job Listings:** Aggregating job postings from various websites to create a comprehensive job board.\n",
    "\n",
    "## Q2. What are the different methods used for Web Scraping?\n",
    "\n",
    "### Answer:\n",
    "1. **Manual Scraping:** Copying and pasting data manually from websites.\n",
    "2. **Parsing HTML:** Using libraries like Beautiful Soup or lxml to parse HTML and extract data.\n",
    "3. **API Access:** Accessing data through provided APIs, which are designed for data retrieval.\n",
    "4. **Browser Automation:** Using tools like Selenium to automate interactions with web pages and extract data.\n",
    "\n",
    "## Q3. What is Beautiful Soup? Why is it used?\n",
    "\n",
    "### Answer:\n",
    "**Beautiful Soup** is a Python library used for parsing HTML and XML documents. It creates a parse tree from page source code that can be used to extract data in a hierarchical and readable manner.\n",
    "\n",
    "**Why is it used?**\n",
    "- It simplifies the process of navigating, searching, and modifying the parse tree.\n",
    "- It can handle poorly-formed HTML and create a consistent parse tree.\n",
    "\n",
    "## Q4. Why is Flask used in this Web Scraping project?\n",
    "\n",
    "### Answer:\n",
    "Flask is a lightweight web framework for Python. It is used in web scraping projects to create a web interface where users can input URLs, trigger the scraping process, and view the results in their web browser.\n",
    "\n",
    "**Benefits of using Flask:**\n",
    "- **Simple and easy to set up:** Minimal setup required to get a web server running.\n",
    "- **Flexibility:** Allows you to build web applications with the functionality you need.\n",
    "- **Integration:** Easily integrates with other libraries and tools.\n",
    "\n",
    "## Q5. Write the names of AWS services used in this project. Also, explain the use of each service.\n",
    "\n",
    "### Answer:\n",
    "1. **Amazon EC2 (Elastic Compute Cloud):** Used to deploy and run the web scraping application on virtual servers.\n",
    "2. **Amazon S3 (Simple Storage Service):** Used to store scraped data securely and access it from anywhere.\n",
    "3. **AWS Lambda:** Used to run scraping scripts in a serverless environment, triggered by specific events.\n",
    "4. **Amazon RDS (Relational Database Service):** Used to store and manage structured data extracted from websites.\n",
    "5. **AWS CloudWatch:** Used to monitor the scraping application's performance and set up alarms for any issues.\n",
    "\n"
   ]
  },
  {
   "cell_type": "markdown",
   "metadata": {},
   "source": []
  }
 ],
 "metadata": {
  "language_info": {
   "name": "python"
  }
 },
 "nbformat": 4,
 "nbformat_minor": 2
}
