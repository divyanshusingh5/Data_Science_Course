{
 "cells": [
  {
   "cell_type": "code",
   "execution_count": null,
   "metadata": {},
   "outputs": [],
   "source": []
  },
  {
   "cell_type": "markdown",
   "metadata": {},
   "source": [
    "# Q1. What is an Exception in Python? Write the difference between Exceptions and Syntax Errors.\n",
    "\n",
    "\"\"\"\n",
    "An exception in Python is an error that occurs during the execution of a program. When an exception is raised, Python stops executing the current code and looks for a block of code that can handle the error. If it finds such a block, it executes it; otherwise, the program terminates.\n",
    "\n",
    "Differences between Exceptions and Syntax Errors:\n",
    "\n",
    "- Exceptions:\n",
    "  - Occur during the execution of a program.\n",
    "  - Examples include ZeroDivisionError, FileNotFoundError, etc.\n",
    "  - Can be caught and handled using try and except blocks.\n",
    "  - Typically involve runtime issues that need to be managed by the program.\n",
    "\n",
    "- Syntax Errors:\n",
    "  - Occur when the code is not written correctly according to Python's syntax rules.\n",
    "  - Examples include missing colons, incorrect indentation, etc.\n",
    "  - Detected during the parsing phase before the program is executed.\n",
    "  - Must be corrected in the code; they cannot be caught or handled at runtime.\n",
    "\"\"\"\n"
   ]
  },
  {
   "cell_type": "markdown",
   "metadata": {},
   "source": [
    "# Q2. What happens when an exception is not handled? Explain with an example.\n",
    "\n",
    "def divide_numbers(a, b):\n",
    "    return a / b\n",
    "\n",
    "# Calling the function with 0 as the denominator\n",
    "result = divide_numbers(10, 0)\n",
    "print(result)\n",
    "\n",
    "\"\"\"\n",
    "Explanation:\n",
    "In this example, dividing by zero raises a ZeroDivisionError. Since there is no exception handling in place, the program will terminate and display an error message indicating the type of exception and the location in the code where it occurred.\n",
    "\"\"\"\n"
   ]
  },
  {
   "cell_type": "markdown",
   "metadata": {},
   "source": []
  },
  {
   "cell_type": "markdown",
   "metadata": {},
   "source": [
    "# Q3. Which Python statements are used to catch and handle exceptions? Explain with an example.\n",
    "\n",
    "\"\"\"\n",
    "The try, except, else, finally, and raise statements are used to handle exceptions in Python.\n",
    "\"\"\"\n",
    "\n",
    "try:\n",
    "    # Code that might raise an exception\n",
    "    result = 10 / 0\n",
    "except ZeroDivisionError as e:\n",
    "    # Code to handle the exception\n",
    "    print(f\"Error occurred: {e}\")\n",
    "else:\n",
    "    # Code to execute if no exception occurs\n",
    "    print(\"No exception occurred.\")\n",
    "finally:\n",
    "    # Code that will always execute, regardless of an exception\n",
    "    print(\"This block is always executed.\")\n"
   ]
  },
  {
   "cell_type": "markdown",
   "metadata": {},
   "source": []
  },
  {
   "cell_type": "markdown",
   "metadata": {},
   "source": [
    "# Q4. Explain with an example: try, else, finally, raise\n",
    "\n",
    "\"\"\"\n",
    "Example:\n",
    "\"\"\"\n",
    "\n",
    "class DivisionByZeroError(Exception):\n",
    "    pass\n",
    "\n",
    "def divide(a, b):\n",
    "    if b == 0:\n",
    "        raise DivisionByZeroError(\"Cannot divide by zero.\")\n",
    "    return a / b\n",
    "\n",
    "try:\n",
    "    result = divide(10, 0)\n",
    "except DivisionByZeroError as e:\n",
    "    print(f\"Custom Error: {e}\")\n",
    "else:\n",
    "    print(f\"Result: {result}\")\n",
    "finally:\n",
    "    print(\"Execution completed.\")\n"
   ]
  },
  {
   "cell_type": "markdown",
   "metadata": {},
   "source": [
    "# Q5. What are Custom Exceptions in Python? Why do we need Custom Exceptions? Explain with an example.\n",
    "\n",
    "\"\"\"\n",
    "Custom exceptions are user-defined exceptions that allow you to create your own error types. They help to differentiate between different types of errors and provide more context.\n",
    "\n",
    "Why Custom Exceptions:\n",
    "- To handle specific types of errors in a more controlled manner.\n",
    "- To improve code readability and maintainability by clearly identifying different error conditions.\n",
    "\"\"\"\n",
    "\n",
    "class InsufficientFundsError(Exception):\n",
    "    def __init__(self, message):\n",
    "        self.message = message\n",
    "        super().__init__(self.message)\n",
    "\n",
    "class BankAccount:\n",
    "    def __init__(self, balance):\n",
    "        self.balance = balance\n",
    "\n",
    "    def withdraw(self, amount):\n",
    "        if amount > self.balance:\n",
    "            raise InsufficientFundsError(\"Insufficient funds in the account.\")\n",
    "        self.balance -= amount\n",
    "        return self.balance\n",
    "\n",
    "account = BankAccount(100)\n",
    "\n",
    "try:\n",
    "    account.withdraw(150)\n",
    "except InsufficientFundsError as e:\n",
    "    print(f\"Error: {e}\")\n"
   ]
  },
  {
   "cell_type": "markdown",
   "metadata": {},
   "source": [
    "# Q6. Create a custom exception class. Use this class to handle an exception.\n",
    "\n",
    "\"\"\"\n",
    "Example:\n",
    "\"\"\"\n",
    "\n",
    "class InvalidAgeError(Exception):\n",
    "    def __init__(self, message):\n",
    "        self.message = message\n",
    "        super().__init__(self.message)\n",
    "\n",
    "def set_age(age):\n",
    "    if age < 0:\n",
    "        raise InvalidAgeError(\"Age cannot be negative.\")\n",
    "    return f\"Age is set to {age}.\"\n",
    "\n",
    "try:\n",
    "    print(set_age(-5))\n",
    "except InvalidAgeError as e:\n",
    "    print(f\"Error: {e}\")\n"
   ]
  },
  {
   "cell_type": "markdown",
   "metadata": {},
   "source": []
  }
 ],
 "metadata": {
  "language_info": {
   "name": "python"
  }
 },
 "nbformat": 4,
 "nbformat_minor": 2
}
