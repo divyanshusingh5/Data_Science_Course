{
 "cells": [
  {
   "cell_type": "code",
   "execution_count": null,
   "metadata": {},
   "outputs": [],
   "source": []
  },
  {
   "cell_type": "markdown",
   "metadata": {},
   "source": [
    "# Q1. What is an Exception in Python? Write the difference between Exceptions and Syntax Errors.\n",
    "\n",
    "\"\"\"\n",
    "An exception in Python is an error that occurs during the execution of a program. When an exception is raised, Python stops executing the current code and looks for a block of code that can handle the error. If it finds such a block, it executes it; otherwise, the program terminates.\n",
    "\n",
    "Differences between Exceptions and Syntax Errors:\n",
    "\n",
    "- Exceptions:\n",
    "  - Occur during the execution of a program.\n",
    "  - Examples include ZeroDivisionError, FileNotFoundError, etc.\n",
    "  - Can be caught and handled using try and except blocks.\n",
    "  - Typically involve runtime issues that need to be managed by the program.\n",
    "\n",
    "- Syntax Errors:\n",
    "  - Occur when the code is not written correctly according to Python's syntax rules.\n",
    "  - Examples include missing colons, incorrect indentation, etc.\n",
    "  - Detected during the parsing phase before the program is executed.\n",
    "  - Must be corrected in the code; they cannot be caught or handled at runtime.\n",
    "\"\"\"\n"
   ]
  },
  {
   "cell_type": "markdown",
   "metadata": {},
   "source": []
  }
 ],
 "metadata": {
  "language_info": {
   "name": "python"
  }
 },
 "nbformat": 4,
 "nbformat_minor": 2
}
