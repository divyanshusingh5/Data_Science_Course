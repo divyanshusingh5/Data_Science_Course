{
 "cells": [
  {
   "cell_type": "markdown",
   "metadata": {},
   "source": [
    "Question 1: Function to Flatten List and Calculate Product\n",
    "We'll create a function that flattens the nested list, extracts numeric values, and calculates their product."
   ]
  },
  {
   "cell_type": "code",
   "execution_count": 1,
   "metadata": {},
   "outputs": [],
   "source": [
    "# Function to determine the grade based on percentage\n",
    "def determine_grade(percentage):\n",
    "    if percentage > 80:\n",
    "        return 'A'\n",
    "    elif percentage > 60:\n",
    "        return 'B'\n",
    "    else:\n",
    "        return 'C'\n",
    "\n",
    "# Main code\n",
    "try:\n",
    "    percentage = float(input(\"Enter your percentage: \"))\n",
    "    if 0 <= percentage <= 100:\n",
    "        grade = determine_grade(percentage)\n",
    "        print(f\"Your grade is: {grade}\")\n",
    "    else:\n",
    "        print(\"Please enter a valid percentage between 0 and 100.\")\n",
    "except ValueError:\n",
    "    print(\"Invalid input. Please enter a numerical value for the percentage.\")\n"
   ]
  },
  {
   "cell_type": "markdown",
   "metadata": {},
   "source": [
    "Part 2: Road Tax Calculation Based on Cost Price of a Bike\n",
    "We need to accept the cost price of a bike from the user and calculate the road tax to be paid based on the given criteria. Here's how we can do it in Python:"
   ]
  },
  {
   "cell_type": "code",
   "execution_count": null,
   "metadata": {},
   "outputs": [],
   "source": [
    "# Function to determine the road tax based on cost price\n",
    "def calculate_road_tax(cost_price):\n",
    "    if cost_price > 100000:\n",
    "        tax_rate = 0.15\n",
    "    elif cost_price > 50000:\n",
    "        tax_rate = 0.10\n",
    "    else:\n",
    "        tax_rate = 0.05\n",
    "    return cost_price * tax_rate\n",
    "\n",
    "# Main code\n",
    "try:\n",
    "    cost_price = float(input(\"Enter the cost price of the bike (in Rs): \"))\n",
    "    if cost_price >= 0:\n",
    "        road_tax = calculate_road_tax(cost_price)\n",
    "        print(f\"The road tax to be paid is: Rs {road_tax:.2f}\")\n",
    "    else:\n",
    "        print(\"Please enter a valid positive cost price.\")\n",
    "except ValueError:\n",
    "    print(\"Invalid input. Please enter a numerical value for the cost price.\")\n"
   ]
  },
  {
   "cell_type": "markdown",
   "metadata": {},
   "source": []
  },
  {
   "cell_type": "markdown",
   "metadata": {},
   "source": []
  }
 ],
 "metadata": {
  "kernelspec": {
   "display_name": "Python 3",
   "language": "python",
   "name": "python3"
  },
  "language_info": {
   "codemirror_mode": {
    "name": "ipython",
    "version": 3
   },
   "file_extension": ".py",
   "mimetype": "text/x-python",
   "name": "python",
   "nbconvert_exporter": "python",
   "pygments_lexer": "ipython3",
   "version": "3.8.0"
  }
 },
 "nbformat": 4,
 "nbformat_minor": 2
}
