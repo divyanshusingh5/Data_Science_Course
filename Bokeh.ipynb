{
 "cells": [
  {
   "cell_type": "markdown",
   "metadata": {},
   "source": [
    "Q1: How can you create a Bokeh plot using Python code?\n",
    "To create a Bokeh plot using Python, you first need to install the Bokeh library and then use its functionalities to create plots. Here's an example of creating a simple line plot using Bokeh."
   ]
  },
  {
   "cell_type": "code",
   "execution_count": 6,
   "metadata": {},
   "outputs": [
    {
     "name": "stdout",
     "output_type": "stream",
     "text": [
      "Requirement already satisfied: bokeh in c:\\users\\divya\\appdata\\local\\programs\\python\\python312\\lib\\site-packages (3.5.1)\n",
      "Requirement already satisfied: Jinja2>=2.9 in c:\\users\\divya\\appdata\\local\\programs\\python\\python312\\lib\\site-packages (from bokeh) (3.1.3)\n",
      "Requirement already satisfied: contourpy>=1.2 in c:\\users\\divya\\appdata\\local\\programs\\python\\python312\\lib\\site-packages (from bokeh) (1.2.0)\n",
      "Requirement already satisfied: numpy>=1.16 in c:\\users\\divya\\appdata\\local\\programs\\python\\python312\\lib\\site-packages (from bokeh) (1.26.2)\n",
      "Requirement already satisfied: packaging>=16.8 in c:\\users\\divya\\appdata\\roaming\\python\\python312\\site-packages (from bokeh) (24.0)\n",
      "Requirement already satisfied: pandas>=1.2 in c:\\users\\divya\\appdata\\local\\programs\\python\\python312\\lib\\site-packages (from bokeh) (2.2.1)\n",
      "Requirement already satisfied: pillow>=7.1.0 in c:\\users\\divya\\appdata\\local\\programs\\python\\python312\\lib\\site-packages (from bokeh) (10.2.0)\n",
      "Requirement already satisfied: PyYAML>=3.10 in c:\\users\\divya\\appdata\\local\\programs\\python\\python312\\lib\\site-packages (from bokeh) (6.0.1)\n",
      "Requirement already satisfied: tornado>=6.2 in c:\\users\\divya\\appdata\\roaming\\python\\python312\\site-packages (from bokeh) (6.4)\n",
      "Requirement already satisfied: xyzservices>=2021.09.1 in c:\\users\\divya\\appdata\\local\\programs\\python\\python312\\lib\\site-packages (from bokeh) (2023.10.1)\n",
      "Requirement already satisfied: MarkupSafe>=2.0 in c:\\users\\divya\\appdata\\local\\programs\\python\\python312\\lib\\site-packages (from Jinja2>=2.9->bokeh) (2.1.5)\n",
      "Requirement already satisfied: python-dateutil>=2.8.2 in c:\\users\\divya\\appdata\\roaming\\python\\python312\\site-packages (from pandas>=1.2->bokeh) (2.9.0.post0)\n",
      "Requirement already satisfied: pytz>=2020.1 in c:\\users\\divya\\appdata\\local\\programs\\python\\python312\\lib\\site-packages (from pandas>=1.2->bokeh) (2024.1)\n",
      "Requirement already satisfied: tzdata>=2022.7 in c:\\users\\divya\\appdata\\local\\programs\\python\\python312\\lib\\site-packages (from pandas>=1.2->bokeh) (2024.1)\n",
      "Requirement already satisfied: six>=1.5 in c:\\users\\divya\\appdata\\roaming\\python\\python312\\site-packages (from python-dateutil>=2.8.2->pandas>=1.2->bokeh) (1.16.0)\n"
     ]
    },
    {
     "name": "stderr",
     "output_type": "stream",
     "text": [
      "\n",
      "[notice] A new release of pip is available: 24.0 -> 24.2\n",
      "[notice] To update, run: C:\\Users\\divya\\AppData\\Local\\Programs\\Python\\Python312\\python.exe -m pip install --upgrade pip\n"
     ]
    }
   ],
   "source": [
    "!pip install bokeh\n"
   ]
  },
  {
   "cell_type": "code",
   "execution_count": null,
   "metadata": {},
   "outputs": [],
   "source": [
    "from bokeh.plotting import figure, output_file, show\n",
    "\n",
    "# Specify the output file\n",
    "output_file(\"line_plot.html\")\n",
    "\n",
    "# Create a new plot with a title and axis labels\n",
    "p = figure(title=\"Simple Line Plot\", x_axis_label='x', y_axis_label='y')\n",
    "\n",
    "# Add a line renderer with legend and line thickness\n",
    "p.line([1, 2, 3, 4, 5], [6, 7, 2, 4, 5], legend_label=\"Temp.\", line_width=2)\n",
    "\n",
    "# Show the results\n",
    "show(p)\n"
   ]
  },
  {
   "cell_type": "markdown",
   "metadata": {},
   "source": [
    "Q2: What are glyphs in Bokeh, and how can you add them to a Bokeh plot? Explain with an example.\n",
    "Glyphs are the basic visual elements of Bokeh plots. Here's how to add circle glyphs:"
   ]
  },
  {
   "cell_type": "code",
   "execution_count": null,
   "metadata": {},
   "outputs": [],
   "source": [
    "from bokeh.plotting import figure, output_file, show\n",
    "\n",
    "# Specify the output file\n",
    "output_file(\"circle_glyph.html\")\n",
    "\n",
    "# Create a new plot with a title and axis labels\n",
    "p = figure(title=\"Circle Glyphs\", x_axis_label='x', y_axis_label='y')\n",
    "\n",
    "# Add circle glyphs\n",
    "p.circle([1, 2, 3, 4, 5], [6, 7, 2, 4, 5], size=15, color=\"navy\", alpha=0.5)\n",
    "\n",
    "# Show the results\n",
    "show(p)\n"
   ]
  },
  {
   "cell_type": "markdown",
   "metadata": {},
   "source": [
    "Q3: How can you customize the appearance of a Bokeh plot, including the axes, title, and legend?\n",
    "Here's an example of customizing a Bokeh plot:"
   ]
  },
  {
   "cell_type": "code",
   "execution_count": null,
   "metadata": {},
   "outputs": [],
   "source": [
    "from bokeh.plotting import figure, output_file, show\n",
    "\n",
    "# Specify the output file\n",
    "output_file(\"customized_plot.html\")\n",
    "\n",
    "# Create a new plot with a title and axis labels\n",
    "p = figure(title=\"Customized Plot\", x_axis_label='X-Axis', y_axis_label='Y-Axis')\n",
    "\n",
    "# Add a line renderer with legend and line thickness\n",
    "p.line([1, 2, 3, 4, 5], [6, 7, 2, 4, 5], legend_label=\"Temperature\", line_width=2)\n",
    "\n",
    "# Customize title\n",
    "p.title.text = \"Customized Line Plot\"\n",
    "p.title.align = \"center\"\n",
    "p.title.text_font_size = \"20pt\"\n",
    "\n",
    "# Customize axes\n",
    "p.xaxis.axis_label = \"Custom X-Axis\"\n",
    "p.yaxis.axis_label = \"Custom Y-Axis\"\n",
    "p.xaxis.axis_label_text_color = \"blue\"\n",
    "p.yaxis.axis_label_text_color = \"green\"\n",
    "\n",
    "# Customize legend\n",
    "p.legend.title = \"Legend\"\n",
    "p.legend.label_text_font_size = \"12pt\"\n",
    "p.legend.location = \"top_left\"\n",
    "\n",
    "# Show the results\n",
    "show(p)\n"
   ]
  },
  {
   "cell_type": "markdown",
   "metadata": {},
   "source": [
    "Q4: What is a Bokeh server, and how can you use it to create interactive plots that can be updated in real-time?"
   ]
  },
  {
   "cell_type": "code",
   "execution_count": null,
   "metadata": {},
   "outputs": [],
   "source": [
    "from bokeh.io import curdoc\n",
    "from bokeh.layouts import column\n",
    "from bokeh.models import ColumnDataSource\n",
    "from bokeh.plotting import figure\n",
    "from bokeh.models.widgets import Slider\n",
    "\n",
    "# Create a ColumnDataSource\n",
    "source = ColumnDataSource(data=dict(x=[1, 2, 3, 4, 5], y=[6, 7, 2, 4, 5]))\n",
    "\n",
    "# Create a new plot with a title and axis labels\n",
    "p = figure(title=\"Interactive Line Plot\", x_axis_label='x', y_axis_label='y')\n",
    "\n",
    "# Add a line renderer\n",
    "p.line('x', 'y', source=source)\n",
    "\n",
    "# Create a slider\n",
    "slider = Slider(start=0, end=10, value=1, step=0.1, title=\"Amplitude\")\n",
    "\n",
    "# Define a callback function to update the plot\n",
    "def update(attr, old, new):\n",
    "    amplitude = slider.value\n",
    "    new_data = dict(x=[1, 2, 3, 4, 5], y=[amplitude * i for i in [6, 7, 2, 4, 5]])\n",
    "    source.data = new_data\n",
    "\n",
    "slider.on_change('value', update)\n",
    "\n",
    "# Layout\n",
    "layout = column(slider, p)\n",
    "\n",
    "# Add the layout to the current document\n",
    "curdoc().add_root(layout)\n"
   ]
  },
  {
   "cell_type": "markdown",
   "metadata": {},
   "source": [
    "Q5: How can you embed a Bokeh plot into a web page or dashboard using Flask or Django?\n"
   ]
  },
  {
   "cell_type": "code",
   "execution_count": null,
   "metadata": {},
   "outputs": [],
   "source": [
    "# app.py\n",
    "from flask import Flask, render_template\n",
    "from bokeh.embed import components\n",
    "from bokeh.plotting import figure\n",
    "\n",
    "app = Flask(__name__)\n",
    "\n",
    "@app.route('/')\n",
    "def index():\n",
    "    plot = figure(title=\"Bokeh Plot in Flask\", x_axis_label='x', y_axis_label='y')\n",
    "    plot.line([1, 2, 3, 4, 5], [6, 7, 2, 4, 5], legend_label=\"Temp.\", line_width=2)\n",
    "\n",
    "    script, div = components(plot)\n",
    "    return render_template('index.html', script=script, div=div)\n",
    "\n",
    "if __name__ == '__main__':\n",
    "    app.run(debug=True)\n"
   ]
  },
  {
   "cell_type": "code",
   "execution_count": null,
   "metadata": {},
   "outputs": [],
   "source": []
  }
 ],
 "metadata": {
  "kernelspec": {
   "display_name": "Python 3",
   "language": "python",
   "name": "python3"
  },
  "language_info": {
   "codemirror_mode": {
    "name": "ipython",
    "version": 3
   },
   "file_extension": ".py",
   "mimetype": "text/x-python",
   "name": "python",
   "nbconvert_exporter": "python",
   "pygments_lexer": "ipython3",
   "version": "3.8.0"
  }
 },
 "nbformat": 4,
 "nbformat_minor": 2
}
