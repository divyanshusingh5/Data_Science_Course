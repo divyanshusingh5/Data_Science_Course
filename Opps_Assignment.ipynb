{
 "cells": [
  {
   "cell_type": "markdown",
   "metadata": {},
   "source": [
    "## Q1. Explain Class and Object with respect to Object-Oriented Programming. Give a suitable example.\n",
    "\n",
    "### Answer:\n",
    "**Class**: A class is a blueprint for creating objects. It defines a set of attributes and methods that the created objects will have. In essence, a class encapsulates data for the object and methods to manipulate that data.\n",
    "\n",
    "**Object**: An object is an instance of a class. When a class is defined, no memory is allocated until an object of that class is created. Objects are used to access the properties and methods defined in the class.\n",
    "\n",
    "**Example**:\n",
    "\n",
    "```python\n",
    "class Car:\n",
    "    def __init__(self, make, model, year):\n",
    "        self.make = make\n",
    "        self.model = model\n",
    "        self.year = year\n",
    "\n",
    "    def display_info(self):\n",
    "        print(f\"Car Make: {self.make}, Model: {self.model}, Year: {self.year}\")\n",
    "\n",
    "# Creating an object of the Car class\n",
    "my_car = Car(\"Toyota\", \"Corolla\", 2020)\n",
    "my_car.display_info()\n"
   ]
  },
  {
   "cell_type": "markdown",
   "metadata": {},
   "source": [
    "Q2. Name the four pillars of OOPs.\n",
    "Answer:\n",
    "The four pillars of Object-Oriented Programming (OOP) are:\n",
    "\n",
    "Encapsulation\n",
    "Abstraction\n",
    "Inheritance\n",
    "Polymorphism\n",
    "Q3. Explain why the init() function is used. Give a suitable example.\n",
    "Answer:\n",
    "The __init__() function, also known as the constructor, is a special method in Python classes. It is automatically called when an object of the class is created. The primary purpose of the __init__() function is to initialize the instance variables of the class."
   ]
  },
  {
   "cell_type": "markdown",
   "metadata": {},
   "source": [
    "class Person:\n",
    "    def __init__(self, name, age):\n",
    "        self.name = name\n",
    "        self.age = age\n",
    "\n",
    "    def greet(self):\n",
    "        print(f\"Hello, my name is {self.name} and I am {self.age} years old.\")\n",
    "\n",
    "# Creating an object of the Person class\n",
    "person1 = Person(\"Alice\", 30)\n",
    "person1.greet()\n"
   ]
  },
  {
   "cell_type": "markdown",
   "metadata": {},
   "source": [
    "Q4. Why self is used in OOPs?\n",
    "Answer:\n",
    "In Python's Object-Oriented Programming, self is used as a reference to the current instance of the class. It is used to access variables and methods associated with the current object. Using self allows each object to maintain its own state and behavior."
   ]
  },
  {
   "cell_type": "markdown",
   "metadata": {},
   "source": [
    "class Dog:\n",
    "    def __init__(self, name, age):\n",
    "        self.name = name\n",
    "        self.age = age\n",
    "\n",
    "    def bark(self):\n",
    "        print(f\"{self.name} is barking.\")\n",
    "\n",
    "# Creating an object of the Dog class\n",
    "my_dog = Dog(\"Buddy\", 5)\n",
    "my_dog.bark()\n"
   ]
  },
  {
   "cell_type": "markdown",
   "metadata": {},
   "source": [
    "Q5. What is inheritance? Give an example for each type of inheritance.\n",
    "Answer:\n",
    "Inheritance is a fundamental concept in Object-Oriented Programming that allows a class (child class) to inherit attributes and methods from another class (parent class). This promotes code reusability and establishes a relationship between classes.\n",
    "\n",
    "Types of Inheritance:\n",
    "\n",
    "Single Inheritance: A child class inherits from one parent class."
   ]
  },
  {
   "cell_type": "markdown",
   "metadata": {},
   "source": [
    "class Animal:\n",
    "    def eat(self):\n",
    "        print(\"Eating...\")\n",
    "\n",
    "class Dog(Animal):\n",
    "    def bark(self):\n",
    "        print(\"Barking...\")\n",
    "\n",
    "# Dog class inherits from Animal class\n",
    "dog = Dog()\n",
    "dog.eat()\n",
    "dog.bark()\n"
   ]
  },
  {
   "cell_type": "code",
   "execution_count": 2,
   "metadata": {},
   "outputs": [
    {
     "name": "stdout",
     "output_type": "stream",
     "text": [
      "Father class\n",
      "Mother class\n",
      "Child class\n"
     ]
    }
   ],
   "source": [
    "class Father:\n",
    "    def show_father(self):\n",
    "        print(\"Father class\")\n",
    "\n",
    "class Mother:\n",
    "    def show_mother(self):\n",
    "        print(\"Mother class\")\n",
    "\n",
    "class Child(Father, Mother):\n",
    "    def show_child(self):\n",
    "        print(\"Child class\")\n",
    "\n",
    "# Child class inherits from both Father and Mother classes\n",
    "child = Child()\n",
    "child.show_father()\n",
    "child.show_mother()\n",
    "child.show_child()\n"
   ]
  },
  {
   "cell_type": "markdown",
   "metadata": {},
   "source": [
    "Multiple Inheritance: A child class inherits from more than one parent class."
   ]
  },
  {
   "cell_type": "code",
   "execution_count": 3,
   "metadata": {},
   "outputs": [
    {
     "name": "stdout",
     "output_type": "stream",
     "text": [
      "Father class\n",
      "Mother class\n",
      "Child class\n"
     ]
    }
   ],
   "source": [
    "class Father:\n",
    "    def show_father(self):\n",
    "        print(\"Father class\")\n",
    "\n",
    "class Mother:\n",
    "    def show_mother(self):\n",
    "        print(\"Mother class\")\n",
    "\n",
    "class Child(Father, Mother):\n",
    "    def show_child(self):\n",
    "        print(\"Child class\")\n",
    "\n",
    "# Child class inherits from both Father and Mother classes\n",
    "child = Child()\n",
    "child.show_father()\n",
    "child.show_mother()\n",
    "child.show_child()\n"
   ]
  },
  {
   "cell_type": "markdown",
   "metadata": {},
   "source": [
    "Multilevel Inheritance: A child class inherits from a parent class, which in turn inherits from another parent class.\n"
   ]
  },
  {
   "cell_type": "code",
   "execution_count": 4,
   "metadata": {},
   "outputs": [
    {
     "name": "stdout",
     "output_type": "stream",
     "text": [
      "Grandparent class\n",
      "Parent class\n",
      "Child class\n"
     ]
    }
   ],
   "source": [
    "class Grandparent:\n",
    "    def show_grandparent(self):\n",
    "        print(\"Grandparent class\")\n",
    "\n",
    "class Parent(Grandparent):\n",
    "    def show_parent(self):\n",
    "        print(\"Parent class\")\n",
    "\n",
    "class Child(Parent):\n",
    "    def show_child(self):\n",
    "        print(\"Child class\")\n",
    "\n",
    "# Child class inherits from Parent class, which inherits from Grandparent class\n",
    "child = Child()\n",
    "child.show_grandparent()\n",
    "child.show_parent()\n",
    "child.show_child()\n"
   ]
  },
  {
   "cell_type": "markdown",
   "metadata": {},
   "source": [
    "Hierarchical Inheritance: Multiple child classes inherit from the same parent class.\n"
   ]
  },
  {
   "cell_type": "code",
   "execution_count": 5,
   "metadata": {},
   "outputs": [
    {
     "name": "stdout",
     "output_type": "stream",
     "text": [
      "Parent class\n",
      "Child1 class\n",
      "Parent class\n",
      "Child2 class\n"
     ]
    }
   ],
   "source": [
    "class Parent:\n",
    "    def show_parent(self):\n",
    "        print(\"Parent class\")\n",
    "\n",
    "class Child1(Parent):\n",
    "    def show_child1(self):\n",
    "        print(\"Child1 class\")\n",
    "\n",
    "class Child2(Parent):\n",
    "    def show_child2(self):\n",
    "        print(\"Child2 class\")\n",
    "\n",
    "# Both Child1 and Child2 classes inherit from Parent class\n",
    "child1 = Child1()\n",
    "child2 = Child2()\n",
    "child1.show_parent()\n",
    "child1.show_child1()\n",
    "child2.show_parent()\n",
    "child2.show_child2()\n"
   ]
  },
  {
   "cell_type": "code",
   "execution_count": 6,
   "metadata": {},
   "outputs": [
    {
     "name": "stdout",
     "output_type": "stream",
     "text": [
      "Base class\n",
      "Derived1 class\n",
      "Derived2 class\n",
      "Derived3 class\n"
     ]
    }
   ],
   "source": [
    "class Base:\n",
    "    def show_base(self):\n",
    "        print(\"Base class\")\n",
    "\n",
    "class Derived1(Base):\n",
    "    def show_derived1(self):\n",
    "        print(\"Derived1 class\")\n",
    "\n",
    "class Derived2(Base):\n",
    "    def show_derived2(self):\n",
    "        print(\"Derived2 class\")\n",
    "\n",
    "class Derived3(Derived1, Derived2):\n",
    "    def show_derived3(self):\n",
    "        print(\"Derived3 class\")\n",
    "\n",
    "# Derived3 class inherits from both Derived1 and Derived2 classes\n",
    "derived3 = Derived3()\n",
    "derived3.show_base()\n",
    "derived3.show_derived1()\n",
    "derived3.show_derived2()\n",
    "derived3.show_derived3()\n"
   ]
  },
  {
   "cell_type": "markdown",
   "metadata": {},
   "source": [
    "Hybrid Inheritance: A combination of two or more types of inheritance.\n"
   ]
  },
  {
   "cell_type": "markdown",
   "metadata": {},
   "source": []
  }
 ],
 "metadata": {
  "kernelspec": {
   "display_name": "Python 3",
   "language": "python",
   "name": "python3"
  },
  "language_info": {
   "codemirror_mode": {
    "name": "ipython",
    "version": 3
   },
   "file_extension": ".py",
   "mimetype": "text/x-python",
   "name": "python",
   "nbconvert_exporter": "python",
   "pygments_lexer": "ipython3",
   "version": "3.8.0"
  }
 },
 "nbformat": 4,
 "nbformat_minor": 2
}
