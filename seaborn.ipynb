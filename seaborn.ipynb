{
 "cells": [
  {
   "cell_type": "code",
   "execution_count": null,
   "metadata": {},
   "outputs": [],
   "source": []
  },
  {
   "cell_type": "markdown",
   "metadata": {},
   "source": [
    "# Seaborn Assignment\n",
    "\n",
    "## Q1: Name any five plots that we can plot using the Seaborn library. Also, state the uses of each plot.\n",
    "\n",
    "### Answer:\n",
    "1. **Line Plot**: Used to represent continuous data over time. It is helpful in understanding trends.\n",
    "2. **Box Plot**: Used to show the distribution of data based on a five-number summary (minimum, first quartile, median, third quartile, and maximum). It helps in identifying outliers.\n",
    "3. **Histogram**: Used to represent the distribution of a dataset. It shows the frequency of data points in successive intervals.\n",
    "4. **Pair Plot**: Used to plot pairwise relationships in a dataset. It is useful for visualizing the distribution of data and the relationships between variables.\n",
    "5. **Heatmap**: Used to represent data in a matrix form where individual values are represented by color. It is useful for showing the correlation between variables.\n",
    "\n",
    "## Q2: Load the \"fmri\" dataset using the load_dataset function of seaborn. Plot a line plot using x = \"timepoint\" and y = \"signal\" for different events and regions.\n",
    "\n",
    "```python\n",
    "import seaborn as sns\n",
    "import matplotlib.pyplot as plt\n",
    "\n",
    "# Load the fmri dataset\n",
    "fmri = sns.load_dataset(\"fmri\")\n",
    "\n",
    "# Plotting the line plot\n",
    "plt.figure(figsize=(10, 6))\n",
    "sns.lineplot(data=fmri, x=\"timepoint\", y=\"signal\", hue=\"event\", style=\"region\")\n",
    "plt.title(\"FMRI Signal over Time\")\n",
    "plt.xlabel(\"Timepoint\")\n",
    "plt.ylabel(\"Signal\")\n",
    "plt.show()\n"
   ]
  },
  {
   "cell_type": "markdown",
   "metadata": {},
   "source": [
    "Q3: Load the \"titanic\" dataset using the load_dataset function of seaborn. Plot two box plots using x = 'pclass', y = 'age' and y = 'fare'."
   ]
  },
  {
   "cell_type": "code",
   "execution_count": 2,
   "metadata": {},
   "outputs": [],
   "source": [
    "# Load the titanic dataset\n",
    "import seaborn as sns\n",
    "titanic = sns.load_dataset(\"titanic\")\n",
    "\n",
    "# Plotting the box plots\n",
    "plt.figure(figsize=(12, 6))\n",
    "\n",
    "# Box plot for age\n",
    "plt.subplot(1, 2, 1)\n",
    "sns.boxplot(data=titanic, x='pclass', y='age')\n",
    "plt.title('Age Distribution by Passenger Class')\n",
    "\n",
    "# Box plot for fare\n",
    "plt.subplot(1, 2, 2)\n",
    "sns.boxplot(data=titanic, x='pclass', y='fare')\n",
    "plt.title('Fare Distribution by Passenger Class')\n",
    "\n",
    "plt.tight_layout()\n",
    "plt.show()\n"
   ]
  },
  {
   "cell_type": "markdown",
   "metadata": {},
   "source": []
  }
 ],
 "metadata": {
  "kernelspec": {
   "display_name": "Python 3",
   "language": "python",
   "name": "python3"
  },
  "language_info": {
   "codemirror_mode": {
    "name": "ipython",
    "version": 3
   },
   "file_extension": ".py",
   "mimetype": "text/x-python",
   "name": "python",
   "nbconvert_exporter": "python",
   "pygments_lexer": "ipython3",
   "version": "3.8.0"
  }
 },
 "nbformat": 4,
 "nbformat_minor": 2
}
