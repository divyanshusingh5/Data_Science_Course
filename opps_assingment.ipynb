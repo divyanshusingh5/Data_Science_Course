{
 "cells": [
  {
   "cell_type": "markdown",
   "metadata": {},
   "source": [
    "Q1. Create a Vehicle Class\n"
   ]
  },
  {
   "cell_type": "code",
   "execution_count": 1,
   "metadata": {},
   "outputs": [],
   "source": [
    "class Vehicle:\n",
    "    def __init__(self, name_of_vehicle, max_speed, average_of_vehicle):\n",
    "        self.name_of_vehicle = name_of_vehicle\n",
    "        self.max_speed = max_speed\n",
    "        self.average_of_vehicle = average_of_vehicle\n",
    "\n",
    "# Example usage:\n",
    "# vehicle = Vehicle(\"Car\", 150, 15)\n",
    "# print(vehicle.name_of_vehicle, vehicle.max_speed, vehicle.average_of_vehicle)\n"
   ]
  },
  {
   "cell_type": "markdown",
   "metadata": {},
   "source": [
    "Q2. Create a Child Class Car\n"
   ]
  },
  {
   "cell_type": "code",
   "execution_count": 2,
   "metadata": {},
   "outputs": [],
   "source": [
    "class Car(Vehicle):\n",
    "    def seating_capacity(self, capacity):\n",
    "        return f\"{self.name_of_vehicle} has a seating capacity of {capacity}.\"\n",
    "\n",
    "# Example usage:\n",
    "# car = Car(\"Sedan\", 180, 12)\n",
    "# print(car.seating_capacity(5))\n"
   ]
  },
  {
   "cell_type": "markdown",
   "metadata": {},
   "source": [
    "Q3. Multiple Inheritance\n",
    "Multiple inheritance is a feature in which a class can inherit attributes and methods from more than one parent class."
   ]
  },
  {
   "cell_type": "code",
   "execution_count": 3,
   "metadata": {},
   "outputs": [],
   "source": [
    "class Engine:\n",
    "    def __init__(self, engine_type):\n",
    "        self.engine_type = engine_type\n",
    "\n",
    "class Wheels:\n",
    "    def __init__(self, number_of_wheels):\n",
    "        self.number_of_wheels = number_of_wheels\n",
    "\n",
    "class Car(Vehicle, Engine, Wheels):\n",
    "    def __init__(self, name_of_vehicle, max_speed, average_of_vehicle, engine_type, number_of_wheels):\n",
    "        Vehicle.__init__(self, name_of_vehicle, max_speed, average_of_vehicle)\n",
    "        Engine.__init__(self, engine_type)\n",
    "        Wheels.__init__(self, number_of_wheels)\n",
    "\n",
    "    def details(self):\n",
    "        return (f\"Vehicle: {self.name_of_vehicle}, Max Speed: {self.max_speed}, \"\n",
    "                f\"Average: {self.average_of_vehicle}, Engine Type: {self.engine_type}, \"\n",
    "                f\"Number of Wheels: {self.number_of_wheels}\")\n",
    "\n",
    "# Example usage:\n",
    "# car = Car(\"SUV\", 200, 10, \"V8\", 4)\n",
    "# print(car.details())\n"
   ]
  },
  {
   "cell_type": "markdown",
   "metadata": {},
   "source": [
    "Q4. Getters and Setters in Python\n",
    "Getters and setters are used to access and update the values of private attributes in a class."
   ]
  },
  {
   "cell_type": "code",
   "execution_count": 4,
   "metadata": {},
   "outputs": [],
   "source": [
    "class Student:\n",
    "    def __init__(self, name, age):\n",
    "        self._name = name\n",
    "        self._age = age\n",
    "\n",
    "    # Getter for name\n",
    "    @property\n",
    "    def name(self):\n",
    "        return self._name\n",
    "\n",
    "    # Setter for name\n",
    "    @name.setter\n",
    "    def name(self, value):\n",
    "        self._name = value\n",
    "\n",
    "    # Getter for age\n",
    "    @property\n",
    "    def age(self):\n",
    "        return self._age\n",
    "\n",
    "    # Setter for age\n",
    "    @age.setter\n",
    "    def age(self, value):\n",
    "        if value >= 0:\n",
    "            self._age = value\n",
    "        else:\n",
    "            raise ValueError(\"Age cannot be negative\")\n",
    "\n",
    "# Example usage:\n",
    "# student = Student(\"John\", 20)\n",
    "# print(student.name)\n",
    "# student.name = \"Doe\"\n",
    "# print(student.name)\n",
    "# student.age = 25\n",
    "# print(student.age)\n"
   ]
  },
  {
   "cell_type": "markdown",
   "metadata": {},
   "source": [
    "Q5. Method Overriding in Python\n",
    "Method overriding allows a child class to provide a specific implementation of a method already defined in its parent class."
   ]
  },
  {
   "cell_type": "code",
   "execution_count": 5,
   "metadata": {},
   "outputs": [],
   "source": [
    "class Parent:\n",
    "    def show(self):\n",
    "        print(\"This is the parent class method\")\n",
    "\n",
    "class Child(Parent):\n",
    "    def show(self):\n",
    "        print(\"This is the child class method\")\n",
    "\n",
    "# Example usage:\n",
    "# parent = Parent()\n",
    "# parent.show()\n",
    "# child = Child()\n",
    "# child.show()\n"
   ]
  },
  {
   "cell_type": "code",
   "execution_count": null,
   "metadata": {},
   "outputs": [],
   "source": []
  }
 ],
 "metadata": {
  "kernelspec": {
   "display_name": "Python 3",
   "language": "python",
   "name": "python3"
  },
  "language_info": {
   "codemirror_mode": {
    "name": "ipython",
    "version": 3
   },
   "file_extension": ".py",
   "mimetype": "text/x-python",
   "name": "python",
   "nbconvert_exporter": "python",
   "pygments_lexer": "ipython3",
   "version": "3.8.0"
  }
 },
 "nbformat": 4,
 "nbformat_minor": 2
}
